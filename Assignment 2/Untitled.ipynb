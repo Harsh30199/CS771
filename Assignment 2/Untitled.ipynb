{
 "cells": [
  {
   "cell_type": "code",
   "execution_count": 3,
   "id": "1c4a0f09",
   "metadata": {},
   "outputs": [],
   "source": [
    "import numpy as np"
   ]
  },
  {
   "cell_type": "code",
   "execution_count": null,
   "id": "30ad60f0",
   "metadata": {},
   "outputs": [],
   "source": [
    "def gradient(X,Y,a,b,c,d,output):\n",
    "    pred_y = a*(X**2) + b*(Y**2) + c*(X*Y) + d ##Creates a array of predicted y value\n",
    "    n = len(X) ##No of observation\n",
    "    grad_a = (-2/n) * sum(X * ( Y - pred_y )) ##Calculates gradient of a\n",
    "    grad_b =   ##Calculates gradient of b\n",
    "    grad_c\n",
    "    grad_d = (-2/n) * sum(output - pred_y)\n",
    "    return (grad_a,grad_b,grad_c,grad_d)"
   ]
  },
  {
   "cell_type": "code",
   "execution_count": 2,
   "id": "196aab14",
   "metadata": {},
   "outputs": [],
   "source": [
    "def gradient_descent(X,Y,output,learn_rate,n_iter=50, tol=1e-05):\n",
    "    a = 0 \n",
    "    b = 0 \n",
    "    c = 0\n",
    "    d = 0\n",
    "    for i in range(n_iter): \n",
    "        delta = -learn_rate * np.array(gradient(X,Y,a,b,c,d,output)) ##Calculates values by which a and b have to be updated \n",
    "        if np.all(np.abs(delta)<=tol): ##if change is less than thresh break out of loop\n",
    "            break\n",
    "        a += delta[0] ##Updates a in opposite direction of gradient\n",
    "        b += delta[1] ##Updates b in opposite direction of gradient\n",
    "        c += delta[2]\n",
    "        d += delta[3]\n",
    "    print(a,b,c,d)"
   ]
  },
  {
   "cell_type": "code",
   "execution_count": null,
   "id": "7ed2c095",
   "metadata": {},
   "outputs": [],
   "source": [
    "X = np.array([6 12 -3 5 2 3.5])\n",
    "Y = np.array([10 8 -4 5 4 4.2])\n",
    "output = np.array([265.2 308.4 46.4 88.3 37 55.3])\n"
   ]
  }
 ],
 "metadata": {
  "kernelspec": {
   "display_name": "Python 3",
   "language": "python",
   "name": "python3"
  },
  "language_info": {
   "codemirror_mode": {
    "name": "ipython",
    "version": 3
   },
   "file_extension": ".py",
   "mimetype": "text/x-python",
   "name": "python",
   "nbconvert_exporter": "python",
   "pygments_lexer": "ipython3",
   "version": "3.8.8"
  }
 },
 "nbformat": 4,
 "nbformat_minor": 5
}
